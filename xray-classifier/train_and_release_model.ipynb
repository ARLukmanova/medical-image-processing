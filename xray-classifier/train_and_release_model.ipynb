{
 "cells": [
  {
   "metadata": {
    "ExecuteTime": {
     "end_time": "2025-06-01T15:31:28.802596Z",
     "start_time": "2025-06-01T15:31:25.683778Z"
    }
   },
   "cell_type": "code",
   "source": [
    "from tqdm.auto import tqdm\n",
    "import torch\n",
    "import mlflow\n",
    "\n",
    "from parameters import MODEL_NAME"
   ],
   "outputs": [],
   "execution_count": 1
  },
  {
   "cell_type": "code",
   "source": [
    "# Определение устройства\n",
    "device = torch.device('cuda' if torch.cuda.is_available() else 'cpu')\n",
    "device"
   ],
   "metadata": {
    "colab": {
     "base_uri": "https://localhost:8080/"
    },
    "id": "c8D-8oNDhfIM",
    "outputId": "301e319c-cab3-4c29-8f0a-656d52ea9a45",
    "ExecuteTime": {
     "end_time": "2025-06-01T15:31:28.894404Z",
     "start_time": "2025-06-01T15:31:28.888408Z"
    }
   },
   "outputs": [
    {
     "data": {
      "text/plain": [
       "device(type='cpu')"
      ]
     },
     "execution_count": 2,
     "metadata": {},
     "output_type": "execute_result"
    }
   ],
   "execution_count": 2
  },
  {
   "metadata": {
    "ExecuteTime": {
     "end_time": "2025-06-01T15:31:29.260936Z",
     "start_time": "2025-06-01T15:31:28.952169Z"
    }
   },
   "cell_type": "code",
   "source": [
    "import os\n",
    "from dotenv import load_dotenv\n",
    "from track_model import init_mlflow\n",
    "\n",
    "load_dotenv()\n",
    "init_mlflow()"
   ],
   "outputs": [
    {
     "name": "stdout",
     "output_type": "stream",
     "text": [
      "MLFlow URI: http://188.72.77.22:5050/\n"
     ]
    }
   ],
   "execution_count": 3
  },
  {
   "cell_type": "code",
   "metadata": {
    "id": "-j7OJ6dwpj-7",
    "ExecuteTime": {
     "end_time": "2025-06-01T15:31:29.282592Z",
     "start_time": "2025-06-01T15:31:29.271916Z"
    }
   },
   "source": [
    "from seed_initializer import seed_all\n",
    "seed_all()"
   ],
   "outputs": [],
   "execution_count": 4
  },
  {
   "metadata": {
    "ExecuteTime": {
     "end_time": "2025-06-01T15:31:29.718551Z",
     "start_time": "2025-06-01T15:31:29.348087Z"
    }
   },
   "cell_type": "code",
   "source": "mlflow_run = mlflow.start_run(log_system_metrics=True)",
   "outputs": [
    {
     "name": "stderr",
     "output_type": "stream",
     "text": [
      "2025/06/01 20:31:29 INFO mlflow.system_metrics.system_metrics_monitor: Skip logging GPU metrics. Set logger level to DEBUG for more details.\n",
      "2025/06/01 20:31:29 INFO mlflow.system_metrics.system_metrics_monitor: Started monitoring system metrics.\n"
     ]
    }
   ],
   "execution_count": 5
  },
  {
   "metadata": {
    "ExecuteTime": {
     "end_time": "2025-06-01T15:31:33.614297Z",
     "start_time": "2025-06-01T15:31:29.730927Z"
    }
   },
   "cell_type": "code",
   "source": [
    "from data_loader import get_data_bundle\n",
    "data_bundle = get_data_bundle(project_path=\"\", num_workers=4)"
   ],
   "outputs": [
    {
     "name": "stdout",
     "output_type": "stream",
     "text": [
      "Dataset Sizes:\n",
      "  Train: 8330\n",
      "  Val: 1041\n",
      "  Test: 624\n",
      "\n",
      "Class Information:\n",
      "  Class: NORMAL, Weight: 0.7411, Count: 2157\n",
      "  Class: PNEUMONIA, Weight: 0.2589, Count: 6173\n",
      "\n",
      "Batch dimension example:\n",
      "  torch.Size([32, 3, 224, 224])\n"
     ]
    }
   ],
   "execution_count": 6
  },
  {
   "metadata": {
    "ExecuteTime": {
     "end_time": "2025-06-01T15:31:42.072174Z",
     "start_time": "2025-06-01T15:31:33.626364Z"
    }
   },
   "cell_type": "code",
   "source": [
    "from parameters import USE_GPU\n",
    "\n",
    "from train_model import train_model\n",
    "model, train_loss, train_acc, val_loss, val_acc = train_model(\n",
    "            proj_path=\"\",\n",
    "            data_bundle=data_bundle,\n",
    "            device=device,\n",
    "            model_name=MODEL_NAME,\n",
    "            dry_run=not USE_GPU,\n",
    "        )"
   ],
   "outputs": [
    {
     "name": "stdout",
     "output_type": "stream",
     "text": [
      "\n",
      "Epoch 1/10 metrics:\n",
      "  Train Loss: 0.0000 | Train Acc: 0.00%\n",
      "  Val Loss:   0.0000 | Val Acc:   0.00%\n",
      "  Epoch Time: 0.00 seconds\n",
      "\n",
      "\n",
      "Epoch 2/10 metrics:\n",
      "  Train Loss: 0.0000 | Train Acc: 0.00%\n",
      "  Val Loss:   0.0000 | Val Acc:   0.00%\n",
      "  Epoch Time: 0.00 seconds\n",
      "\n",
      "\n",
      "Epoch 3/10 metrics:\n",
      "  Train Loss: 0.0000 | Train Acc: 0.00%\n",
      "  Val Loss:   0.0000 | Val Acc:   0.00%\n",
      "  Epoch Time: 0.00 seconds\n",
      "\n",
      "\n",
      "Epoch 4/10 metrics:\n",
      "  Train Loss: 0.0000 | Train Acc: 0.00%\n",
      "  Val Loss:   0.0000 | Val Acc:   0.00%\n",
      "  Epoch Time: 0.00 seconds\n",
      "\n",
      "\n",
      "Epoch 5/10 metrics:\n",
      "  Train Loss: 0.0000 | Train Acc: 0.00%\n",
      "  Val Loss:   0.0000 | Val Acc:   0.00%\n",
      "  Epoch Time: 0.00 seconds\n",
      "\n",
      "\n",
      "Epoch 6/10 metrics:\n",
      "  Train Loss: 0.0000 | Train Acc: 0.00%\n",
      "  Val Loss:   0.0000 | Val Acc:   0.00%\n",
      "  Epoch Time: 0.00 seconds\n",
      "\n",
      "\n",
      "Epoch 7/10 metrics:\n",
      "  Train Loss: 0.0000 | Train Acc: 0.00%\n",
      "  Val Loss:   0.0000 | Val Acc:   0.00%\n",
      "  Epoch Time: 0.00 seconds\n",
      "\n",
      "\n",
      "Epoch 8/10 metrics:\n",
      "  Train Loss: 0.0000 | Train Acc: 0.00%\n",
      "  Val Loss:   0.0000 | Val Acc:   0.00%\n",
      "  Epoch Time: 0.00 seconds\n",
      "\n",
      "\n",
      "Epoch 9/10 metrics:\n",
      "  Train Loss: 0.0000 | Train Acc: 0.00%\n",
      "  Val Loss:   0.0000 | Val Acc:   0.00%\n",
      "  Epoch Time: 0.00 seconds\n",
      "\n",
      "\n",
      "Epoch 10/10 metrics:\n",
      "  Train Loss: 0.0000 | Train Acc: 0.00%\n",
      "  Val Loss:   0.0000 | Val Acc:   0.00%\n",
      "  Epoch Time: 0.00 seconds\n",
      "\n"
     ]
    }
   ],
   "execution_count": 7
  },
  {
   "cell_type": "markdown",
   "source": [
    "#Функции обучения и оценки"
   ],
   "metadata": {
    "id": "x2JfUJKmwfJn"
   }
  },
  {
   "metadata": {
    "ExecuteTime": {
     "end_time": "2025-06-01T15:33:47.333240Z",
     "start_time": "2025-06-01T15:31:51.406487Z"
    }
   },
   "cell_type": "code",
   "source": [
    "from evaluate_model import evaluate_model\n",
    "y_true, y_pred, y_scores = evaluate_model(model, data_bundle.loaders.test)"
   ],
   "outputs": [
    {
     "name": "stderr",
     "output_type": "stream",
     "text": [
      "Оценка модели: 100%|██████████| 20/20 [01:55<00:00,  5.78s/it]\n"
     ]
    }
   ],
   "execution_count": 8
  },
  {
   "metadata": {
    "ExecuteTime": {
     "end_time": "2025-06-01T15:34:51.976256Z",
     "start_time": "2025-06-01T15:34:02.108959Z"
    }
   },
   "cell_type": "code",
   "source": [
    "from track_model import log_model_as_onnx\n",
    "log_model_as_onnx(model, make_current=True)"
   ],
   "outputs": [
    {
     "name": "stdout",
     "output_type": "stream",
     "text": [
      "Сохраняем модель в формате ONNX: /tmp/medical-image-processing/hybrid_model_455e0b29a18647a89d09fee2d60eb8b7.onnx\n"
     ]
    },
    {
     "name": "stderr",
     "output_type": "stream",
     "text": [
      "/home/alina/medical-image-processing/xray-classifier/.venv/lib/python3.12/site-packages/transformers/models/vit/modeling_vit.py:154: TracerWarning: Converting a tensor to a Python boolean might cause the trace to be incorrect. We can't record the data flow of Python values, so this value will be treated as a constant in the future. This means that the trace might not generalize to other inputs!\n",
      "  if num_channels != self.num_channels:\n",
      "/home/alina/medical-image-processing/xray-classifier/.venv/lib/python3.12/site-packages/transformers/models/vit/modeling_vit.py:160: TracerWarning: Converting a tensor to a Python boolean might cause the trace to be incorrect. We can't record the data flow of Python values, so this value will be treated as a constant in the future. This means that the trace might not generalize to other inputs!\n",
      "  if height != self.image_size[0] or width != self.image_size[1]:\n"
     ]
    },
    {
     "name": "stdout",
     "output_type": "stream",
     "text": [
      "Загружаем модель в MLflow: /tmp/medical-image-processing/hybrid_model_455e0b29a18647a89d09fee2d60eb8b7.onnx\n"
     ]
    },
    {
     "name": "stderr",
     "output_type": "stream",
     "text": [
      "Registered model 'xray-hybrid-classifier' already exists. Creating a new version of this model...\n",
      "2025/06/01 20:34:51 INFO mlflow.store.model_registry.abstract_store: Waiting up to 300 seconds for model version to finish creation. Model name: xray-hybrid-classifier, version 2\n",
      "Created version '2' of model 'xray-hybrid-classifier'.\n"
     ]
    },
    {
     "name": "stdout",
     "output_type": "stream",
     "text": [
      "Удаляем временный файл с моделью: /tmp/medical-image-processing/hybrid_model_455e0b29a18647a89d09fee2d60eb8b7.onnx\n"
     ]
    }
   ],
   "execution_count": 9
  },
  {
   "metadata": {
    "ExecuteTime": {
     "end_time": "2025-06-01T15:35:18.773813Z",
     "start_time": "2025-06-01T15:35:18.119160Z"
    }
   },
   "cell_type": "code",
   "source": "mlflow.end_run()",
   "outputs": [
    {
     "name": "stdout",
     "output_type": "stream",
     "text": [
      "🏃 View run dapper-snake-53 at: http://188.72.77.22:5050/#/experiments/1/runs/455e0b29a18647a89d09fee2d60eb8b7\n",
      "🧪 View experiment at: http://188.72.77.22:5050/#/experiments/1\n"
     ]
    },
    {
     "name": "stderr",
     "output_type": "stream",
     "text": [
      "2025/06/01 20:35:18 INFO mlflow.system_metrics.system_metrics_monitor: Stopping system metrics monitoring...\n",
      "2025/06/01 20:35:18 INFO mlflow.system_metrics.system_metrics_monitor: Successfully terminated system metrics monitoring!\n"
     ]
    }
   ],
   "execution_count": 10
  },
  {
   "metadata": {},
   "cell_type": "code",
   "outputs": [],
   "execution_count": 11,
   "source": [
    "import matplotlib.pyplot as plt\n",
    "import seaborn as sns\n",
    "from sklearn.metrics import classification_report, confusion_matrix, roc_curve, auc\n",
    "\n",
    "classes = ['NORMAL', 'PNEUMONIA']\n",
    "\n",
    "\n",
    "\n",
    "# Подробный отчет о классификации\n",
    "print(\"ДЕТАЛЬНЫЙ ОТЧЕТ О КЛАССИФИКАЦИИ:\")\n",
    "print(classification_report(y_true, y_pred, target_names=classes, digits=4))\n",
    "\n",
    "# Матрица ошибок\n",
    "cm = confusion_matrix(y_true, y_pred)\n",
    "print(\"\\nМАТРИЦА ОШИБОК:\")\n",
    "print(cm)\n",
    "\n",
    "# Визуализация матрицы ошибок\n",
    "plt.figure(figsize=(6, 5))\n",
    "sns.heatmap(cm, annot=True, fmt=\"d\", cmap=\"Blues\", xticklabels=classes, yticklabels=classes)\n",
    "plt.xlabel(\"Предсказанные метки\")\n",
    "plt.ylabel(\"Истинные метки\")\n",
    "plt.title(\"Матрица ошибок\")\n",
    "plt.show()\n",
    "\n",
    "# ROC-AUC\n",
    "fpr, tpr, _ = roc_curve(y_true, y_scores)\n",
    "roc_auc = auc(fpr, tpr)\n",
    "\n",
    "# Визуализация ROC-кривой\n",
    "plt.figure(figsize=(6, 5))\n",
    "plt.plot(fpr, tpr, color='blue', lw=2, label=f'ROC AUC = {roc_auc:.3f}')\n",
    "plt.plot([0, 1], [0, 1], color='gray', linestyle='--')\n",
    "plt.xlabel(\"False Positive Rate\")\n",
    "plt.ylabel(\"True Positive Rate\")\n",
    "plt.title(\"ROC-кривая\")\n",
    "plt.legend(loc=\"lower right\")\n",
    "plt.show()"
   ]
  }
 ],
 "metadata": {
  "colab": {
   "collapsed_sections": [
    "1EDvY2zj9GJ3",
    "F8-0mRgs_mYs"
   ],
   "machine_shape": "hm",
   "provenance": [],
   "gpuType": "A100"
  },
  "kernelspec": {
   "display_name": "Python 3",
   "name": "python3"
  },
  "language_info": {
   "name": "python"
  },
  "accelerator": "GPU",
  "widgets": {
   "application/vnd.jupyter.widget-state+json": {
    "adb47f470b14486f96d6ebb9f2308eca": {
     "model_module": "@jupyter-widgets/controls",
     "model_name": "HBoxModel",
     "model_module_version": "1.5.0",
     "state": {
      "_dom_classes": [],
      "_model_module": "@jupyter-widgets/controls",
      "_model_module_version": "1.5.0",
      "_model_name": "HBoxModel",
      "_view_count": null,
      "_view_module": "@jupyter-widgets/controls",
      "_view_module_version": "1.5.0",
      "_view_name": "HBoxView",
      "box_style": "",
      "children": [
       "IPY_MODEL_3b387e9cf74a4230a79ec33bcc7451ca",
       "IPY_MODEL_e69a5b5b1a154f8e89cc3a6ac8bac559",
       "IPY_MODEL_e73d2c508a2a4ade888b4c997bd638d8"
      ],
      "layout": "IPY_MODEL_1d12c2bcc5aa43ee8bc8b826c417ff80"
     }
    },
    "3b387e9cf74a4230a79ec33bcc7451ca": {
     "model_module": "@jupyter-widgets/controls",
     "model_name": "HTMLModel",
     "model_module_version": "1.5.0",
     "state": {
      "_dom_classes": [],
      "_model_module": "@jupyter-widgets/controls",
      "_model_module_version": "1.5.0",
      "_model_name": "HTMLModel",
      "_view_count": null,
      "_view_module": "@jupyter-widgets/controls",
      "_view_module_version": "1.5.0",
      "_view_name": "HTMLView",
      "description": "",
      "description_tooltip": null,
      "layout": "IPY_MODEL_e1503fae61574362875e7bb78711be99",
      "placeholder": "​",
      "style": "IPY_MODEL_118ab25911404da49d82f93aab49c6ed",
      "value": "config.json: 100%"
     }
    },
    "e69a5b5b1a154f8e89cc3a6ac8bac559": {
     "model_module": "@jupyter-widgets/controls",
     "model_name": "FloatProgressModel",
     "model_module_version": "1.5.0",
     "state": {
      "_dom_classes": [],
      "_model_module": "@jupyter-widgets/controls",
      "_model_module_version": "1.5.0",
      "_model_name": "FloatProgressModel",
      "_view_count": null,
      "_view_module": "@jupyter-widgets/controls",
      "_view_module_version": "1.5.0",
      "_view_name": "ProgressView",
      "bar_style": "success",
      "description": "",
      "description_tooltip": null,
      "layout": "IPY_MODEL_048a2acad081416e954461c54647d17e",
      "max": 502,
      "min": 0,
      "orientation": "horizontal",
      "style": "IPY_MODEL_b61f78f29b1d4a288ea46ea4a16c4fe3",
      "value": 502
     }
    },
    "e73d2c508a2a4ade888b4c997bd638d8": {
     "model_module": "@jupyter-widgets/controls",
     "model_name": "HTMLModel",
     "model_module_version": "1.5.0",
     "state": {
      "_dom_classes": [],
      "_model_module": "@jupyter-widgets/controls",
      "_model_module_version": "1.5.0",
      "_model_name": "HTMLModel",
      "_view_count": null,
      "_view_module": "@jupyter-widgets/controls",
      "_view_module_version": "1.5.0",
      "_view_name": "HTMLView",
      "description": "",
      "description_tooltip": null,
      "layout": "IPY_MODEL_ca1da72c771e4cf08fcd16b3e4b9f578",
      "placeholder": "​",
      "style": "IPY_MODEL_d40202c514da43bc91afd413c836a2c2",
      "value": " 502/502 [00:00&lt;00:00, 60.6kB/s]"
     }
    },
    "1d12c2bcc5aa43ee8bc8b826c417ff80": {
     "model_module": "@jupyter-widgets/base",
     "model_name": "LayoutModel",
     "model_module_version": "1.2.0",
     "state": {
      "_model_module": "@jupyter-widgets/base",
      "_model_module_version": "1.2.0",
      "_model_name": "LayoutModel",
      "_view_count": null,
      "_view_module": "@jupyter-widgets/base",
      "_view_module_version": "1.2.0",
      "_view_name": "LayoutView",
      "align_content": null,
      "align_items": null,
      "align_self": null,
      "border": null,
      "bottom": null,
      "display": null,
      "flex": null,
      "flex_flow": null,
      "grid_area": null,
      "grid_auto_columns": null,
      "grid_auto_flow": null,
      "grid_auto_rows": null,
      "grid_column": null,
      "grid_gap": null,
      "grid_row": null,
      "grid_template_areas": null,
      "grid_template_columns": null,
      "grid_template_rows": null,
      "height": null,
      "justify_content": null,
      "justify_items": null,
      "left": null,
      "margin": null,
      "max_height": null,
      "max_width": null,
      "min_height": null,
      "min_width": null,
      "object_fit": null,
      "object_position": null,
      "order": null,
      "overflow": null,
      "overflow_x": null,
      "overflow_y": null,
      "padding": null,
      "right": null,
      "top": null,
      "visibility": null,
      "width": null
     }
    },
    "e1503fae61574362875e7bb78711be99": {
     "model_module": "@jupyter-widgets/base",
     "model_name": "LayoutModel",
     "model_module_version": "1.2.0",
     "state": {
      "_model_module": "@jupyter-widgets/base",
      "_model_module_version": "1.2.0",
      "_model_name": "LayoutModel",
      "_view_count": null,
      "_view_module": "@jupyter-widgets/base",
      "_view_module_version": "1.2.0",
      "_view_name": "LayoutView",
      "align_content": null,
      "align_items": null,
      "align_self": null,
      "border": null,
      "bottom": null,
      "display": null,
      "flex": null,
      "flex_flow": null,
      "grid_area": null,
      "grid_auto_columns": null,
      "grid_auto_flow": null,
      "grid_auto_rows": null,
      "grid_column": null,
      "grid_gap": null,
      "grid_row": null,
      "grid_template_areas": null,
      "grid_template_columns": null,
      "grid_template_rows": null,
      "height": null,
      "justify_content": null,
      "justify_items": null,
      "left": null,
      "margin": null,
      "max_height": null,
      "max_width": null,
      "min_height": null,
      "min_width": null,
      "object_fit": null,
      "object_position": null,
      "order": null,
      "overflow": null,
      "overflow_x": null,
      "overflow_y": null,
      "padding": null,
      "right": null,
      "top": null,
      "visibility": null,
      "width": null
     }
    },
    "118ab25911404da49d82f93aab49c6ed": {
     "model_module": "@jupyter-widgets/controls",
     "model_name": "DescriptionStyleModel",
     "model_module_version": "1.5.0",
     "state": {
      "_model_module": "@jupyter-widgets/controls",
      "_model_module_version": "1.5.0",
      "_model_name": "DescriptionStyleModel",
      "_view_count": null,
      "_view_module": "@jupyter-widgets/base",
      "_view_module_version": "1.2.0",
      "_view_name": "StyleView",
      "description_width": ""
     }
    },
    "048a2acad081416e954461c54647d17e": {
     "model_module": "@jupyter-widgets/base",
     "model_name": "LayoutModel",
     "model_module_version": "1.2.0",
     "state": {
      "_model_module": "@jupyter-widgets/base",
      "_model_module_version": "1.2.0",
      "_model_name": "LayoutModel",
      "_view_count": null,
      "_view_module": "@jupyter-widgets/base",
      "_view_module_version": "1.2.0",
      "_view_name": "LayoutView",
      "align_content": null,
      "align_items": null,
      "align_self": null,
      "border": null,
      "bottom": null,
      "display": null,
      "flex": null,
      "flex_flow": null,
      "grid_area": null,
      "grid_auto_columns": null,
      "grid_auto_flow": null,
      "grid_auto_rows": null,
      "grid_column": null,
      "grid_gap": null,
      "grid_row": null,
      "grid_template_areas": null,
      "grid_template_columns": null,
      "grid_template_rows": null,
      "height": null,
      "justify_content": null,
      "justify_items": null,
      "left": null,
      "margin": null,
      "max_height": null,
      "max_width": null,
      "min_height": null,
      "min_width": null,
      "object_fit": null,
      "object_position": null,
      "order": null,
      "overflow": null,
      "overflow_x": null,
      "overflow_y": null,
      "padding": null,
      "right": null,
      "top": null,
      "visibility": null,
      "width": null
     }
    },
    "b61f78f29b1d4a288ea46ea4a16c4fe3": {
     "model_module": "@jupyter-widgets/controls",
     "model_name": "ProgressStyleModel",
     "model_module_version": "1.5.0",
     "state": {
      "_model_module": "@jupyter-widgets/controls",
      "_model_module_version": "1.5.0",
      "_model_name": "ProgressStyleModel",
      "_view_count": null,
      "_view_module": "@jupyter-widgets/base",
      "_view_module_version": "1.2.0",
      "_view_name": "StyleView",
      "bar_color": null,
      "description_width": ""
     }
    },
    "ca1da72c771e4cf08fcd16b3e4b9f578": {
     "model_module": "@jupyter-widgets/base",
     "model_name": "LayoutModel",
     "model_module_version": "1.2.0",
     "state": {
      "_model_module": "@jupyter-widgets/base",
      "_model_module_version": "1.2.0",
      "_model_name": "LayoutModel",
      "_view_count": null,
      "_view_module": "@jupyter-widgets/base",
      "_view_module_version": "1.2.0",
      "_view_name": "LayoutView",
      "align_content": null,
      "align_items": null,
      "align_self": null,
      "border": null,
      "bottom": null,
      "display": null,
      "flex": null,
      "flex_flow": null,
      "grid_area": null,
      "grid_auto_columns": null,
      "grid_auto_flow": null,
      "grid_auto_rows": null,
      "grid_column": null,
      "grid_gap": null,
      "grid_row": null,
      "grid_template_areas": null,
      "grid_template_columns": null,
      "grid_template_rows": null,
      "height": null,
      "justify_content": null,
      "justify_items": null,
      "left": null,
      "margin": null,
      "max_height": null,
      "max_width": null,
      "min_height": null,
      "min_width": null,
      "object_fit": null,
      "object_position": null,
      "order": null,
      "overflow": null,
      "overflow_x": null,
      "overflow_y": null,
      "padding": null,
      "right": null,
      "top": null,
      "visibility": null,
      "width": null
     }
    },
    "d40202c514da43bc91afd413c836a2c2": {
     "model_module": "@jupyter-widgets/controls",
     "model_name": "DescriptionStyleModel",
     "model_module_version": "1.5.0",
     "state": {
      "_model_module": "@jupyter-widgets/controls",
      "_model_module_version": "1.5.0",
      "_model_name": "DescriptionStyleModel",
      "_view_count": null,
      "_view_module": "@jupyter-widgets/base",
      "_view_module_version": "1.2.0",
      "_view_name": "StyleView",
      "description_width": ""
     }
    },
    "538c051c2f1b479789611a9bc899f39e": {
     "model_module": "@jupyter-widgets/controls",
     "model_name": "HBoxModel",
     "model_module_version": "1.5.0",
     "state": {
      "_dom_classes": [],
      "_model_module": "@jupyter-widgets/controls",
      "_model_module_version": "1.5.0",
      "_model_name": "HBoxModel",
      "_view_count": null,
      "_view_module": "@jupyter-widgets/controls",
      "_view_module_version": "1.5.0",
      "_view_name": "HBoxView",
      "box_style": "",
      "children": [
       "IPY_MODEL_79396aa69d3644f6bbeaa4fb9d01f7e5",
       "IPY_MODEL_fb1e10adb6bc40668c59f341571ddbba",
       "IPY_MODEL_82c4f8acab1b4706b4c1d8d46d6e2baf"
      ],
      "layout": "IPY_MODEL_929d31579b644cd790e5d069a260d143"
     }
    },
    "79396aa69d3644f6bbeaa4fb9d01f7e5": {
     "model_module": "@jupyter-widgets/controls",
     "model_name": "HTMLModel",
     "model_module_version": "1.5.0",
     "state": {
      "_dom_classes": [],
      "_model_module": "@jupyter-widgets/controls",
      "_model_module_version": "1.5.0",
      "_model_name": "HTMLModel",
      "_view_count": null,
      "_view_module": "@jupyter-widgets/controls",
      "_view_module_version": "1.5.0",
      "_view_name": "HTMLView",
      "description": "",
      "description_tooltip": null,
      "layout": "IPY_MODEL_48dcd149feb647da933300ca4daea366",
      "placeholder": "​",
      "style": "IPY_MODEL_8ce5c2ed89b94668aab3458edc4c99cf",
      "value": "model.safetensors: 100%"
     }
    },
    "fb1e10adb6bc40668c59f341571ddbba": {
     "model_module": "@jupyter-widgets/controls",
     "model_name": "FloatProgressModel",
     "model_module_version": "1.5.0",
     "state": {
      "_dom_classes": [],
      "_model_module": "@jupyter-widgets/controls",
      "_model_module_version": "1.5.0",
      "_model_name": "FloatProgressModel",
      "_view_count": null,
      "_view_module": "@jupyter-widgets/controls",
      "_view_module_version": "1.5.0",
      "_view_name": "ProgressView",
      "bar_style": "success",
      "description": "",
      "description_tooltip": null,
      "layout": "IPY_MODEL_c2af737ec04647f4b73e44c97ee44f07",
      "max": 345579424,
      "min": 0,
      "orientation": "horizontal",
      "style": "IPY_MODEL_b9ac46cf960c45f7a0397063815be6d9",
      "value": 345579424
     }
    },
    "82c4f8acab1b4706b4c1d8d46d6e2baf": {
     "model_module": "@jupyter-widgets/controls",
     "model_name": "HTMLModel",
     "model_module_version": "1.5.0",
     "state": {
      "_dom_classes": [],
      "_model_module": "@jupyter-widgets/controls",
      "_model_module_version": "1.5.0",
      "_model_name": "HTMLModel",
      "_view_count": null,
      "_view_module": "@jupyter-widgets/controls",
      "_view_module_version": "1.5.0",
      "_view_name": "HTMLView",
      "description": "",
      "description_tooltip": null,
      "layout": "IPY_MODEL_3abb81c696154a32a11af6483d4e1826",
      "placeholder": "​",
      "style": "IPY_MODEL_1f116fa0c79d49778b1aaa2859f5b7d1",
      "value": " 346M/346M [00:00&lt;00:00, 503MB/s]"
     }
    },
    "929d31579b644cd790e5d069a260d143": {
     "model_module": "@jupyter-widgets/base",
     "model_name": "LayoutModel",
     "model_module_version": "1.2.0",
     "state": {
      "_model_module": "@jupyter-widgets/base",
      "_model_module_version": "1.2.0",
      "_model_name": "LayoutModel",
      "_view_count": null,
      "_view_module": "@jupyter-widgets/base",
      "_view_module_version": "1.2.0",
      "_view_name": "LayoutView",
      "align_content": null,
      "align_items": null,
      "align_self": null,
      "border": null,
      "bottom": null,
      "display": null,
      "flex": null,
      "flex_flow": null,
      "grid_area": null,
      "grid_auto_columns": null,
      "grid_auto_flow": null,
      "grid_auto_rows": null,
      "grid_column": null,
      "grid_gap": null,
      "grid_row": null,
      "grid_template_areas": null,
      "grid_template_columns": null,
      "grid_template_rows": null,
      "height": null,
      "justify_content": null,
      "justify_items": null,
      "left": null,
      "margin": null,
      "max_height": null,
      "max_width": null,
      "min_height": null,
      "min_width": null,
      "object_fit": null,
      "object_position": null,
      "order": null,
      "overflow": null,
      "overflow_x": null,
      "overflow_y": null,
      "padding": null,
      "right": null,
      "top": null,
      "visibility": null,
      "width": null
     }
    },
    "48dcd149feb647da933300ca4daea366": {
     "model_module": "@jupyter-widgets/base",
     "model_name": "LayoutModel",
     "model_module_version": "1.2.0",
     "state": {
      "_model_module": "@jupyter-widgets/base",
      "_model_module_version": "1.2.0",
      "_model_name": "LayoutModel",
      "_view_count": null,
      "_view_module": "@jupyter-widgets/base",
      "_view_module_version": "1.2.0",
      "_view_name": "LayoutView",
      "align_content": null,
      "align_items": null,
      "align_self": null,
      "border": null,
      "bottom": null,
      "display": null,
      "flex": null,
      "flex_flow": null,
      "grid_area": null,
      "grid_auto_columns": null,
      "grid_auto_flow": null,
      "grid_auto_rows": null,
      "grid_column": null,
      "grid_gap": null,
      "grid_row": null,
      "grid_template_areas": null,
      "grid_template_columns": null,
      "grid_template_rows": null,
      "height": null,
      "justify_content": null,
      "justify_items": null,
      "left": null,
      "margin": null,
      "max_height": null,
      "max_width": null,
      "min_height": null,
      "min_width": null,
      "object_fit": null,
      "object_position": null,
      "order": null,
      "overflow": null,
      "overflow_x": null,
      "overflow_y": null,
      "padding": null,
      "right": null,
      "top": null,
      "visibility": null,
      "width": null
     }
    },
    "8ce5c2ed89b94668aab3458edc4c99cf": {
     "model_module": "@jupyter-widgets/controls",
     "model_name": "DescriptionStyleModel",
     "model_module_version": "1.5.0",
     "state": {
      "_model_module": "@jupyter-widgets/controls",
      "_model_module_version": "1.5.0",
      "_model_name": "DescriptionStyleModel",
      "_view_count": null,
      "_view_module": "@jupyter-widgets/base",
      "_view_module_version": "1.2.0",
      "_view_name": "StyleView",
      "description_width": ""
     }
    },
    "c2af737ec04647f4b73e44c97ee44f07": {
     "model_module": "@jupyter-widgets/base",
     "model_name": "LayoutModel",
     "model_module_version": "1.2.0",
     "state": {
      "_model_module": "@jupyter-widgets/base",
      "_model_module_version": "1.2.0",
      "_model_name": "LayoutModel",
      "_view_count": null,
      "_view_module": "@jupyter-widgets/base",
      "_view_module_version": "1.2.0",
      "_view_name": "LayoutView",
      "align_content": null,
      "align_items": null,
      "align_self": null,
      "border": null,
      "bottom": null,
      "display": null,
      "flex": null,
      "flex_flow": null,
      "grid_area": null,
      "grid_auto_columns": null,
      "grid_auto_flow": null,
      "grid_auto_rows": null,
      "grid_column": null,
      "grid_gap": null,
      "grid_row": null,
      "grid_template_areas": null,
      "grid_template_columns": null,
      "grid_template_rows": null,
      "height": null,
      "justify_content": null,
      "justify_items": null,
      "left": null,
      "margin": null,
      "max_height": null,
      "max_width": null,
      "min_height": null,
      "min_width": null,
      "object_fit": null,
      "object_position": null,
      "order": null,
      "overflow": null,
      "overflow_x": null,
      "overflow_y": null,
      "padding": null,
      "right": null,
      "top": null,
      "visibility": null,
      "width": null
     }
    },
    "b9ac46cf960c45f7a0397063815be6d9": {
     "model_module": "@jupyter-widgets/controls",
     "model_name": "ProgressStyleModel",
     "model_module_version": "1.5.0",
     "state": {
      "_model_module": "@jupyter-widgets/controls",
      "_model_module_version": "1.5.0",
      "_model_name": "ProgressStyleModel",
      "_view_count": null,
      "_view_module": "@jupyter-widgets/base",
      "_view_module_version": "1.2.0",
      "_view_name": "StyleView",
      "bar_color": null,
      "description_width": ""
     }
    },
    "3abb81c696154a32a11af6483d4e1826": {
     "model_module": "@jupyter-widgets/base",
     "model_name": "LayoutModel",
     "model_module_version": "1.2.0",
     "state": {
      "_model_module": "@jupyter-widgets/base",
      "_model_module_version": "1.2.0",
      "_model_name": "LayoutModel",
      "_view_count": null,
      "_view_module": "@jupyter-widgets/base",
      "_view_module_version": "1.2.0",
      "_view_name": "LayoutView",
      "align_content": null,
      "align_items": null,
      "align_self": null,
      "border": null,
      "bottom": null,
      "display": null,
      "flex": null,
      "flex_flow": null,
      "grid_area": null,
      "grid_auto_columns": null,
      "grid_auto_flow": null,
      "grid_auto_rows": null,
      "grid_column": null,
      "grid_gap": null,
      "grid_row": null,
      "grid_template_areas": null,
      "grid_template_columns": null,
      "grid_template_rows": null,
      "height": null,
      "justify_content": null,
      "justify_items": null,
      "left": null,
      "margin": null,
      "max_height": null,
      "max_width": null,
      "min_height": null,
      "min_width": null,
      "object_fit": null,
      "object_position": null,
      "order": null,
      "overflow": null,
      "overflow_x": null,
      "overflow_y": null,
      "padding": null,
      "right": null,
      "top": null,
      "visibility": null,
      "width": null
     }
    },
    "1f116fa0c79d49778b1aaa2859f5b7d1": {
     "model_module": "@jupyter-widgets/controls",
     "model_name": "DescriptionStyleModel",
     "model_module_version": "1.5.0",
     "state": {
      "_model_module": "@jupyter-widgets/controls",
      "_model_module_version": "1.5.0",
      "_model_name": "DescriptionStyleModel",
      "_view_count": null,
      "_view_module": "@jupyter-widgets/base",
      "_view_module_version": "1.2.0",
      "_view_name": "StyleView",
      "description_width": ""
     }
    }
   }
  }
 },
 "nbformat": 4,
 "nbformat_minor": 0
}
